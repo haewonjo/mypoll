{
 "cells": [
  {
   "cell_type": "code",
   "execution_count": 1,
   "metadata": {},
   "outputs": [],
   "source": [
    "# JupyterLab에서 django shell을 실행시키기 위한 설정\n",
    "import os\n",
    "import django\n",
    "\n",
    "os.environ[\"DJANGO_SETTINGS_MODULE\"] = \"config.settings\" # config/settings.py 모듈 지정\n",
    "os.environ[\"DJANGO_ALLOW_ASYNC_UNSAFE\"] = \"true\"\n",
    "\n",
    "django.setup()"
   ]
  },
  {
   "cell_type": "code",
   "execution_count": 61,
   "metadata": {},
   "outputs": [
    {
     "name": "stdout",
     "output_type": "stream",
     "text": [
      "1. 고양이\n"
     ]
    }
   ],
   "source": [
    "from polls.models import Question, Choice\n",
    "\n",
    "c = Choice.objects.get(pk=1)\n",
    "print(c)"
   ]
  },
  {
   "cell_type": "code",
   "execution_count": 62,
   "metadata": {},
   "outputs": [
    {
     "name": "stdout",
     "output_type": "stream",
     "text": [
      "<class 'django.db.models.manager.Manager'> <class 'django.db.models.manager.Manager'>\n"
     ]
    }
   ],
   "source": [
    "# Model Manager -> Model클래스.objects => SQL을 실행하는 메소드들 제공. (DB작업 관리자)\n",
    "print(type(Choice.objects), type(Question.objects))"
   ]
  },
  {
   "cell_type": "code",
   "execution_count": 63,
   "metadata": {},
   "outputs": [
    {
     "name": "stdout",
     "output_type": "stream",
     "text": [
      "<class 'django.db.models.query.QuerySet'>\n"
     ]
    }
   ],
   "source": [
    "result = Choice.objects.all() # select * from tb(choice)\n",
    "print(type(result))"
   ]
  },
  {
   "cell_type": "code",
   "execution_count": 64,
   "metadata": {},
   "outputs": [
    {
     "name": "stdout",
     "output_type": "stream",
     "text": [
      "1. 고양이\n",
      "2. 토끼\n",
      "3. 귤\n",
      "4. 딸기\n",
      "5. 바퀴벌레\n",
      "6. 곱등이\n",
      "7. 흰색\n",
      "8. 초록색\n"
     ]
    }
   ],
   "source": [
    "# QuerySet: iterable\n",
    "for r in result:\n",
    "    print(r)"
   ]
  },
  {
   "cell_type": "code",
   "execution_count": 65,
   "metadata": {},
   "outputs": [
    {
     "data": {
      "text/plain": [
       "(<Choice: 1. 고양이>, 8)"
      ]
     },
     "execution_count": 65,
     "metadata": {},
     "output_type": "execute_result"
    }
   ],
   "source": [
    "# QuerySet: subscriptable\n",
    "result[0], len(result)"
   ]
  },
  {
   "cell_type": "markdown",
   "metadata": {},
   "source": [
    "# 조회\n",
    "- 'Model.objects.all() : 전체조회\n",
    "- 'Model.objects.filter(), exclude(), get() \n",
    "   - where절이 있는 조회"
   ]
  },
  {
   "cell_type": "code",
   "execution_count": 8,
   "metadata": {},
   "outputs": [
    {
     "name": "stdout",
     "output_type": "stream",
     "text": [
      "조회결과 개수: 4\n",
      "실행된 SQL문조회 - QuerySet.query\n",
      "SELECT \"polls_question\".\"id\", \"polls_question\".\"question_text\", \"polls_question\".\"pub_date\" FROM \"polls_question\"\n"
     ]
    }
   ],
   "source": [
    "result_list = Question.objects.all()\n",
    "print(\"조회결과 개수:\", len(result_list))\n",
    "print(\"실행된 SQL문조회 - QuerySet.query\")\n",
    "print(result_list.query)"
   ]
  },
  {
   "cell_type": "code",
   "execution_count": 9,
   "metadata": {},
   "outputs": [
    {
     "name": "stdout",
     "output_type": "stream",
     "text": [
      "1 1, 좋아하는 동물은 무엇인가요? 2025-01-06 01:16:39.250787+00:00\n",
      "2 2, 좋아하는 과일은 무엇입니까? 2025-01-06 01:16:50.689864+00:00\n",
      "4 4, 싫어하는 곤충은 무엇입니까? 2025-01-07 00:06:49.642304+00:00\n",
      "5 5, 좋아하는 색은 무엇입니까? 2025-01-07 00:17:23.758325+00:00\n"
     ]
    }
   ],
   "source": [
    "for result in result_list:\n",
    "    # print(result) # model.__str__()\n",
    "    # 개별 Field 조회(instance 변수)\n",
    "    print(result.id, result.pk, end=\", \") # id-primarykey field이름, pk: primary key\n",
    "    print(result.question_text, result.pub_date)\n"
   ]
  },
  {
   "cell_type": "code",
   "execution_count": 10,
   "metadata": {},
   "outputs": [
    {
     "name": "stdout",
     "output_type": "stream",
     "text": [
      "2 좋아하는 과일은 무엇입니까? 2025-01-06 01:16:50\n"
     ]
    }
   ],
   "source": [
    "# 조회결과에서 개별 데이터 조회 - indexing\n",
    "r = result_list[1]\n",
    "print(r.pk, r.question_text, r.pub_date.strftime(\"%Y-%m-%d %H:%M:%S\"))"
   ]
  },
  {
   "cell_type": "code",
   "execution_count": 11,
   "metadata": {},
   "outputs": [
    {
     "ename": "ValueError",
     "evalue": "Negative indexing is not supported.",
     "output_type": "error",
     "traceback": [
      "\u001b[1;31m---------------------------------------------------------------------------\u001b[0m",
      "\u001b[1;31mValueError\u001b[0m                                Traceback (most recent call last)",
      "Cell \u001b[1;32mIn[11], line 2\u001b[0m\n\u001b[0;32m      1\u001b[0m \u001b[38;5;66;03m# QuerySet은 음수 index는 지원하지 않는다\u001b[39;00m\n\u001b[1;32m----> 2\u001b[0m \u001b[43mresult_list\u001b[49m\u001b[43m[\u001b[49m\u001b[38;5;241;43m-\u001b[39;49m\u001b[38;5;241;43m1\u001b[39;49m\u001b[43m]\u001b[49m\n",
      "File \u001b[1;32mc:\\Users\\Playdata\\miniconda3\\envs\\django\\Lib\\site-packages\\django\\db\\models\\query.py:431\u001b[0m, in \u001b[0;36mQuerySet.__getitem__\u001b[1;34m(self, k)\u001b[0m\n\u001b[0;32m    420\u001b[0m     \u001b[38;5;28;01mraise\u001b[39;00m \u001b[38;5;167;01mTypeError\u001b[39;00m(\n\u001b[0;32m    421\u001b[0m         \u001b[38;5;124m\"\u001b[39m\u001b[38;5;124mQuerySet indices must be integers or slices, not \u001b[39m\u001b[38;5;132;01m%s\u001b[39;00m\u001b[38;5;124m.\u001b[39m\u001b[38;5;124m\"\u001b[39m\n\u001b[0;32m    422\u001b[0m         \u001b[38;5;241m%\u001b[39m \u001b[38;5;28mtype\u001b[39m(k)\u001b[38;5;241m.\u001b[39m\u001b[38;5;18m__name__\u001b[39m\n\u001b[0;32m    423\u001b[0m     )\n\u001b[0;32m    424\u001b[0m \u001b[38;5;28;01mif\u001b[39;00m (\u001b[38;5;28misinstance\u001b[39m(k, \u001b[38;5;28mint\u001b[39m) \u001b[38;5;129;01mand\u001b[39;00m k \u001b[38;5;241m<\u001b[39m \u001b[38;5;241m0\u001b[39m) \u001b[38;5;129;01mor\u001b[39;00m (\n\u001b[0;32m    425\u001b[0m     \u001b[38;5;28misinstance\u001b[39m(k, \u001b[38;5;28mslice\u001b[39m)\n\u001b[0;32m    426\u001b[0m     \u001b[38;5;129;01mand\u001b[39;00m (\n\u001b[1;32m   (...)\u001b[0m\n\u001b[0;32m    429\u001b[0m     )\n\u001b[0;32m    430\u001b[0m ):\n\u001b[1;32m--> 431\u001b[0m     \u001b[38;5;28;01mraise\u001b[39;00m \u001b[38;5;167;01mValueError\u001b[39;00m(\u001b[38;5;124m\"\u001b[39m\u001b[38;5;124mNegative indexing is not supported.\u001b[39m\u001b[38;5;124m\"\u001b[39m)\n\u001b[0;32m    433\u001b[0m \u001b[38;5;28;01mif\u001b[39;00m \u001b[38;5;28mself\u001b[39m\u001b[38;5;241m.\u001b[39m_result_cache \u001b[38;5;129;01mis\u001b[39;00m \u001b[38;5;129;01mnot\u001b[39;00m \u001b[38;5;28;01mNone\u001b[39;00m:\n\u001b[0;32m    434\u001b[0m     \u001b[38;5;28;01mreturn\u001b[39;00m \u001b[38;5;28mself\u001b[39m\u001b[38;5;241m.\u001b[39m_result_cache[k]\n",
      "\u001b[1;31mValueError\u001b[0m: Negative indexing is not supported."
     ]
    }
   ],
   "source": [
    "# QuerySet은 음수 index는 지원하지 않는다\n",
    "result_list[-1]"
   ]
  },
  {
   "cell_type": "code",
   "execution_count": 12,
   "metadata": {},
   "outputs": [
    {
     "data": {
      "text/plain": [
       "[<Question: 1. 좋아하는 동물은 무엇인가요?>]"
      ]
     },
     "execution_count": 12,
     "metadata": {},
     "output_type": "execute_result"
    }
   ],
   "source": [
    "result_list[:1] # slicing -반환타입 -> list"
   ]
  },
  {
   "cell_type": "code",
   "execution_count": 13,
   "metadata": {},
   "outputs": [
    {
     "data": {
      "text/plain": [
       "<Question: 5. 좋아하는 색은 무엇입니까?>"
      ]
     },
     "execution_count": 13,
     "metadata": {},
     "output_type": "execute_result"
    }
   ],
   "source": [
    "# QuerySet.first() : 첫번째 조회값 . result_list[0]\n",
    "# QuerySet.last() : 마지막 조회값 . result_list[-1]\n",
    "result_list.first()\n",
    "result_list.last()"
   ]
  },
  {
   "cell_type": "code",
   "execution_count": 16,
   "metadata": {},
   "outputs": [
    {
     "name": "stdout",
     "output_type": "stream",
     "text": [
      "4 싫어하는 곤충은 무엇입니까? 2025-01-07 00:06:49.642304+00:00\n",
      "2 좋아하는 과일은 무엇입니까? 2025-01-06 01:16:50.689864+00:00\n",
      "1 좋아하는 동물은 무엇인가요? 2025-01-06 01:16:39.250787+00:00\n",
      "5 좋아하는 색은 무엇입니까? 2025-01-07 00:17:23.758325+00:00\n"
     ]
    }
   ],
   "source": [
    "## 정렬 - sql: orderby 절\n",
    "# queryset.order_by(\"field명\") : asc\n",
    "# queryset.order_by(\"-field명\") : desc\n",
    "## 기준 컬럼이 여러개일 경우 나열한다\n",
    "\n",
    "# result_list = Question.objects.all()\n",
    "result_list = Question.objects.all().order_by(\"-pk\") # id desc\n",
    "result_list = Question.objects.all().order_by(\"question_text\") # question_text asc\n",
    "for result in result_list: \n",
    "    print(result.pk, result.question_text, result.pub_date)"
   ]
  },
  {
   "cell_type": "code",
   "execution_count": 59,
   "metadata": {},
   "outputs": [
    {
     "name": "stdout",
     "output_type": "stream",
     "text": [
      "1 고양이 11\n",
      "2 토끼 11\n",
      "4 딸기 10\n",
      "3 귤 8\n",
      "7 흰색 5\n",
      "8 초록색 2\n",
      "6 곱등이 1\n",
      "5 바퀴벌레 1\n"
     ]
    }
   ],
   "source": [
    "result_list = Choice.objects.all().order_by(\"-votes\", \"choice_text\")\n",
    "# SQL: orderby votes desc, choice_text asc\n",
    "for result in result_list:\n",
    "    print(result.pk, result.choice_text, result.votes)"
   ]
  },
  {
   "cell_type": "code",
   "execution_count": 18,
   "metadata": {},
   "outputs": [
    {
     "name": "stdout",
     "output_type": "stream",
     "text": [
      "SELECT \"polls_choice\".\"id\", \"polls_choice\".\"choice_text\", \"polls_choice\".\"votes\", \"polls_choice\".\"question_id\" FROM \"polls_choice\" ORDER BY \"polls_choice\".\"votes\" DESC, \"polls_choice\".\"choice_text\" ASC\n"
     ]
    }
   ],
   "source": [
    "print(result_list.query)"
   ]
  },
  {
   "cell_type": "markdown",
   "metadata": {},
   "source": [
    "## where (조건)으로 조회\n",
    "- `filter()`: 조회기간이 True행동을 조회 -> QuerySet return\n",
    "- `exclude()`: 조회기간이 False행동을 조회 -> QuerySet return \n",
    "- `get()`: 조회결과가 1개월일 때만 사용(pk=값), 조회결과가 없거나 2개 이상이면 Exception발생 -> Model return\n",
    "- 조회조건 형식: `filed이름__연산자 = 값`"
   ]
  },
  {
   "cell_type": "code",
   "execution_count": 19,
   "metadata": {},
   "outputs": [
    {
     "name": "stdout",
     "output_type": "stream",
     "text": [
      "<class 'django.db.models.query.QuerySet'>\n"
     ]
    },
    {
     "data": {
      "text/plain": [
       "<QuerySet [<Question: 2. 좋아하는 과일은 무엇입니까?>, <Question: 4. 싫어하는 곤충은 무엇입니까?>, <Question: 5. 좋아하는 색은 무엇입니까?>]>"
      ]
     },
     "execution_count": 19,
     "metadata": {},
     "output_type": "execute_result"
    }
   ],
   "source": [
    "result =  Question.objects.filter(pk=1)  # pk = 1\n",
    "result =  Question.objects.get(pk=1)     # pk = 1\n",
    "result =  Question.objects.exclude(pk=1) # where not (pk = 1)\n",
    "print(type(result))\n",
    "result"
   ]
  },
  {
   "cell_type": "code",
   "execution_count": 20,
   "metadata": {},
   "outputs": [
    {
     "name": "stdout",
     "output_type": "stream",
     "text": [
      "SELECT \"polls_choice\".\"id\", \"polls_choice\".\"choice_text\", \"polls_choice\".\"votes\", \"polls_choice\".\"question_id\" FROM \"polls_choice\" WHERE \"polls_choice\".\"choice_text\" = 뱀\n"
     ]
    }
   ],
   "source": [
    "# 비교연산\n",
    "result = Choice.objects.filter(pk__lt = 5) # where pk < 5\n",
    "result = Choice.objects.filter(pk__lte = 5) # where pk <= 5\n",
    "result = Choice.objects.filter(pk__gt = 15) # where pk > 15\n",
    "result = Choice.objects.filter(pk__gte = 15) # where pk >= 15\n",
    "result = Choice.objects.filter(choice_text = \"뱀\") # get은 하나만\n",
    "print(result.query)"
   ]
  },
  {
   "cell_type": "code",
   "execution_count": 21,
   "metadata": {},
   "outputs": [
    {
     "name": "stdout",
     "output_type": "stream",
     "text": [
      "SELECT \"polls_question\".\"id\", \"polls_question\".\"question_text\", \"polls_question\".\"pub_date\" FROM \"polls_question\" WHERE \"polls_question\".\"question_text\" LIKE %무엇입니까? ESCAPE '\\'\n",
      "2. 좋아하는 과일은 무엇입니까?\n",
      "4. 싫어하는 곤충은 무엇입니까?\n",
      "5. 좋아하는 색은 무엇입니까?\n"
     ]
    }
   ],
   "source": [
    "# 문자열 컬럼 부분일치 (like)\n",
    "result = Question.objects.filter(question_text__contains = \"색은\")\n",
    "# where question_text like \"%색은%\"\n",
    "\n",
    "result = Question.objects.filter(question_text__startswith = \"좋아하는\")\n",
    "# where question_text like \"좋아하는%\"\n",
    "\n",
    "result = Question.objects.filter(question_text__endswith = \"무엇입니까?\")\n",
    "# where question_text like \"%무엇입니까?\"\n",
    "\n",
    "print(result.query)\n",
    "for r in result:\n",
    "    print(r)"
   ]
  },
  {
   "cell_type": "code",
   "execution_count": 22,
   "metadata": {},
   "outputs": [
    {
     "data": {
      "text/plain": [
       "<QuerySet [<Question: 2. 좋아하는 과일은 무엇입니까?>, <Question: 5. 좋아하는 색은 무엇입니까?>]>"
      ]
     },
     "execution_count": 22,
     "metadata": {},
     "output_type": "execute_result"
    }
   ],
   "source": [
    "# where 컬럼 in [v1, v2, ..] 연산자\n",
    "Question.objects.filter(pk__in = [1, 3, 4])\n",
    "Question.objects.exclude(pk__in = [1, 3, 4]) # not"
   ]
  },
  {
   "cell_type": "code",
   "execution_count": 58,
   "metadata": {},
   "outputs": [
    {
     "data": {
      "text/plain": [
       "<QuerySet [<Choice: 1. 고양이>, <Choice: 2. 토끼>]>"
      ]
     },
     "execution_count": 58,
     "metadata": {},
     "output_type": "execute_result"
    }
   ],
   "source": [
    "# where 컬럼 between A and B\n",
    "Choice.objects.filter(pk__range = [0, 2]) # pk between 0 and 2"
   ]
  },
  {
   "cell_type": "markdown",
   "metadata": {},
   "source": [
    "### where 절의 and, or\n",
    "- `AND`: 조건을 나열한다\n",
    "- `OR`: 각 조건을 Q()함수에 넣고 | 로 연결한다"
   ]
  },
  {
   "cell_type": "code",
   "execution_count": 25,
   "metadata": {},
   "outputs": [
    {
     "name": "stdout",
     "output_type": "stream",
     "text": [
      "SELECT \"polls_question\".\"id\", \"polls_question\".\"question_text\", \"polls_question\".\"pub_date\" FROM \"polls_question\" WHERE (\"polls_question\".\"id\" < 3 AND \"polls_question\".\"question_text\" LIKE %무엇입니까? ESCAPE '\\')\n",
      "2. 좋아하는 과일은 무엇입니까?\n"
     ]
    }
   ],
   "source": [
    "# and\n",
    "result = Question.objects.filter(\n",
    "    question_text__endswith = \"무엇입니까?\",\n",
    "    pk__lt = 3\n",
    ")\n",
    "\n",
    "print(result.query)\n",
    "for r in result:\n",
    "    print(r)"
   ]
  },
  {
   "cell_type": "code",
   "execution_count": 26,
   "metadata": {},
   "outputs": [
    {
     "name": "stdout",
     "output_type": "stream",
     "text": [
      "SELECT \"polls_question\".\"id\", \"polls_question\".\"question_text\", \"polls_question\".\"pub_date\" FROM \"polls_question\" WHERE (NOT (\"polls_question\".\"question_text\" LIKE %무엇입니까? ESCAPE '\\') OR \"polls_question\".\"id\" >= 3)\n",
      "1. 좋아하는 동물은 무엇인가요?\n",
      "4. 싫어하는 곤충은 무엇입니까?\n",
      "5. 좋아하는 색은 무엇입니까?\n"
     ]
    }
   ],
   "source": [
    "# or\n",
    "from django.db.models import Q\n",
    "\n",
    "result = Question.objects.filter(\n",
    "    Q(question_text__endswith = \"무엇입니까?\") | Q(pk__gte = 3)\n",
    ")\n",
    "\n",
    "# ~Q(조건) : not 조건\n",
    "## AND나 OR로 조회조건을 합칠 때 개별 조건에 NOT을 붙이려면 Q()를 이용용\n",
    "result = Question.objects.filter(\n",
    "    ~Q(question_text__endswith = \"무엇입니까?\") | Q(pk__gte = 3)\n",
    ")\n",
    "\n",
    "print(result.query)\n",
    "for r in result:\n",
    "    print(r)"
   ]
  },
  {
   "cell_type": "markdown",
   "metadata": {},
   "source": [
    "### 조회 컬럼을 지정\n",
    "- `values(컬럼명, ..)`\n",
    "    - 개별(행) 조회 결과를 dictionary로 반환"
   ]
  },
  {
   "cell_type": "code",
   "execution_count": 27,
   "metadata": {},
   "outputs": [
    {
     "data": {
      "text/plain": [
       "<django.db.models.sql.query.Query at 0x29e834ea150>"
      ]
     },
     "execution_count": 27,
     "metadata": {},
     "output_type": "execute_result"
    }
   ],
   "source": [
    "result = Question.objects.all().values('pk', 'question_text')\n",
    "result.query"
   ]
  },
  {
   "cell_type": "code",
   "execution_count": 28,
   "metadata": {},
   "outputs": [
    {
     "data": {
      "text/plain": [
       "<QuerySet [{'pk': 1, 'question_text': '좋아하는 동물은 무엇인가요?'}, {'pk': 2, 'question_text': '좋아하는 과일은 무엇입니까?'}]>"
      ]
     },
     "execution_count": 28,
     "metadata": {},
     "output_type": "execute_result"
    }
   ],
   "source": [
    "result = Question.objects.filter(pk__lt = 3).values('pk', 'question_text')\n",
    "result"
   ]
  },
  {
   "cell_type": "code",
   "execution_count": 31,
   "metadata": {},
   "outputs": [
    {
     "name": "stdout",
     "output_type": "stream",
     "text": [
      "조회결과가 없습니다.\n"
     ]
    }
   ],
   "source": [
    "try:\n",
    "    a = Question.objects.get(pk=20)\n",
    "except:\n",
    "    print('조회결과가 없습니다.')"
   ]
  },
  {
   "cell_type": "markdown",
   "metadata": {},
   "source": [
    "### 집계함수\n",
    "- aggregate(집계함수(컬럼명), ..) : 전체 행 기준 집계\n",
    "- values('기준컬럼').annotate(집계함수(컬럼명), ..) : group by 후 집계"
   ]
  },
  {
   "cell_type": "code",
   "execution_count": 32,
   "metadata": {},
   "outputs": [
    {
     "name": "stdout",
     "output_type": "stream",
     "text": [
      "<class 'dict'>\n"
     ]
    },
    {
     "data": {
      "text/plain": [
       "{'cnt': 4}"
      ]
     },
     "execution_count": 32,
     "metadata": {},
     "output_type": "execute_result"
    }
   ],
   "source": [
    "from django.db.models import Count, Sum, Avg, Min, Max, StdDev, Variance\n",
    "\n",
    "result = Question.objects.aggregate(\n",
    "    # Count(\"id\")   # select count(id) from ..\n",
    "    cnt=Count(\"id\") # 변수명을 key값을 사용\n",
    ")\n",
    "print(type(result)) # dict. 기본 key 패턴: field명__집계함수이름\n",
    "result#['id__count']"
   ]
  },
  {
   "cell_type": "code",
   "execution_count": 34,
   "metadata": {},
   "outputs": [
    {
     "name": "stdout",
     "output_type": "stream",
     "text": [
      "<class 'dict'>\n"
     ]
    },
    {
     "data": {
      "text/plain": [
       "{'cnt': 8, 'vote_min': 1, 'vote_max': 11}"
      ]
     },
     "execution_count": 34,
     "metadata": {},
     "output_type": "execute_result"
    }
   ],
   "source": [
    "# 한번에 여러 집계\n",
    "result = Choice.objects.aggregate(\n",
    "    cnt=Count('id'),\n",
    "    vote_min=Min('votes'), \n",
    "    vote_max=Max('votes') \n",
    ")\n",
    "print(type(result))\n",
    "result"
   ]
  },
  {
   "cell_type": "code",
   "execution_count": 35,
   "metadata": {},
   "outputs": [
    {
     "data": {
      "text/plain": [
       "{'min_max_gap': 10}"
      ]
     },
     "execution_count": 35,
     "metadata": {},
     "output_type": "execute_result"
    }
   ],
   "source": [
    "# 집계함수를 이용한 연산. 변수명(key) = 연산식\n",
    "## select max(votes) -  min(votes) as min\n",
    "\n",
    "Choice.objects.aggregate(min_max_gap = (Max('votes')-Min('votes')))"
   ]
  },
  {
   "cell_type": "code",
   "execution_count": 36,
   "metadata": {},
   "outputs": [
    {
     "data": {
      "text/plain": [
       "{'votes__count': 8,\n",
       " 'votes__sum': 49,\n",
       " 'votes__avg': 6.125,\n",
       " 'votes__min': 1,\n",
       " 'votes__max': 11,\n",
       " 'votes__stddev': 4.136348026943574,\n",
       " 'votes__variance': 17.109375}"
      ]
     },
     "execution_count": 36,
     "metadata": {},
     "output_type": "execute_result"
    }
   ],
   "source": [
    "Choice.objects.aggregate(\n",
    "    Count('votes'), Sum('votes'), Avg('votes'),  Min('votes'), Max('votes'), StdDev('votes'), Variance('votes')\n",
    ")"
   ]
  },
  {
   "cell_type": "code",
   "execution_count": 37,
   "metadata": {},
   "outputs": [
    {
     "data": {
      "text/plain": [
       "<QuerySet [{'question': 1, 'votes__sum': 22}, {'question': 2, 'votes__sum': 18}, {'question': 4, 'votes__sum': 2}, {'question': 5, 'votes__sum': 7}]>"
      ]
     },
     "execution_count": 37,
     "metadata": {},
     "output_type": "execute_result"
    }
   ],
   "source": [
    "# select sum(votes)->annotate() from choice group by question (values())\n",
    "\n",
    "result = Choice.objects.values('question').annotate(Sum('votes'))\n",
    "result"
   ]
  },
  {
   "cell_type": "code",
   "execution_count": 38,
   "metadata": {},
   "outputs": [
    {
     "data": {
      "text/plain": [
       "<QuerySet [{'question': 1, 'votes__min': 11, 'votes__max': 11}, {'question': 2, 'votes__min': 8, 'votes__max': 10}, {'question': 4, 'votes__min': 1, 'votes__max': 1}, {'question': 5, 'votes__min': 2, 'votes__max': 5}]>"
      ]
     },
     "execution_count": 38,
     "metadata": {},
     "output_type": "execute_result"
    }
   ],
   "source": [
    "result = Choice.objects.values('question').annotate(Min('votes'), Max('votes'))\n",
    "result\n",
    "## group별 결과를 dictionary에 담아서 QuerySet으로 묶어 반환."
   ]
  },
  {
   "cell_type": "markdown",
   "metadata": {},
   "source": [
    "# JOIN\n",
    "- 부모테이블: question, 자식테이블: choice"
   ]
  },
  {
   "cell_type": "code",
   "execution_count": 56,
   "metadata": {},
   "outputs": [
    {
     "data": {
      "text/plain": [
       "<Choice: 1. 고양이>"
      ]
     },
     "execution_count": 56,
     "metadata": {},
     "output_type": "execute_result"
    }
   ],
   "source": [
    "# 부모테이블: Question, 자식테이블: Choice\n",
    "c1 = Choice.objects.get(pk=1)\n",
    "c1"
   ]
  },
  {
   "cell_type": "code",
   "execution_count": 57,
   "metadata": {},
   "outputs": [
    {
     "name": "stdout",
     "output_type": "stream",
     "text": [
      "1 11 고양이\n",
      "1. 좋아하는 동물은 무엇인가요? <class 'polls.models.Question'> 1\n",
      "좋아하는 동물은 무엇인가요?\n"
     ]
    }
   ],
   "source": [
    "print(c1.pk, c1.votes, c1.choice_text)\n",
    "print(c1.question, type(c1.question), c1.question_id)\n",
    "print(c1.question.question_text)"
   ]
  },
  {
   "cell_type": "code",
   "execution_count": 88,
   "metadata": {},
   "outputs": [],
   "source": [
    "result_list = Choice.objects.filter(choice_text__endswith='색')\n",
    "for result in result_list:\n",
    "    print(\n",
    "        result.choice_text, # 보기 텍스트\n",
    "        result.question.question_text  # 자식객체.ForeignKey필드 ->참조하는 부모데이터\n",
    "    )"
   ]
  },
  {
   "cell_type": "markdown",
   "metadata": {},
   "source": [
    "* 부모레이블 기준으로 자식레이블을 조회\n",
    "    - 부모 model_instance.자식모델클래스이름_set: 자식 객체를 조회"
   ]
  },
  {
   "cell_type": "code",
   "execution_count": 48,
   "metadata": {},
   "outputs": [
    {
     "data": {
      "text/plain": [
       "<QuerySet [<Question: 1. 좋아하는 동물은 무엇인가요?>, <Question: 2. 좋아하는 과일은 무엇입니까?>, <Question: 4. 싫어하는 곤충은 무엇입니까?>, <Question: 5. 좋아하는 색은 무엇입니까?>]>"
      ]
     },
     "execution_count": 48,
     "metadata": {},
     "output_type": "execute_result"
    }
   ],
   "source": [
    "Question.objects.all()"
   ]
  },
  {
   "cell_type": "code",
   "execution_count": 50,
   "metadata": {},
   "outputs": [
    {
     "data": {
      "text/plain": [
       "<Question: 5. 좋아하는 색은 무엇입니까?>"
      ]
     },
     "execution_count": 50,
     "metadata": {},
     "output_type": "execute_result"
    }
   ],
   "source": [
    "q1 = Question.objects.get(pk=5)\n",
    "q1"
   ]
  },
  {
   "cell_type": "code",
   "execution_count": 51,
   "metadata": {},
   "outputs": [
    {
     "data": {
      "text/plain": [
       "<django.db.models.fields.related_descriptors.create_reverse_many_to_one_manager.<locals>.RelatedManager at 0x29e836b8980>"
      ]
     },
     "execution_count": 51,
     "metadata": {},
     "output_type": "execute_result"
    }
   ],
   "source": [
    "q1.choice_set\n",
    "# choice(Choice클래스) -> q1을 참조하는 Choice의 행들을 조회할 수 있는 manager를 반환 -> RelateManager"
   ]
  },
  {
   "cell_type": "code",
   "execution_count": 53,
   "metadata": {},
   "outputs": [
    {
     "name": "stdout",
     "output_type": "stream",
     "text": [
      "1. 좋아하는 동물은 무엇인가요?\n",
      "\t1. 고양이: 11\n",
      "\t2. 토끼: 11\n",
      "2. 좋아하는 과일은 무엇입니까?\n",
      "\t1. 귤: 8\n",
      "\t2. 딸기: 10\n",
      "4. 싫어하는 곤충은 무엇입니까?\n",
      "\t1. 바퀴벌레: 1\n",
      "\t2. 곱등이: 1\n",
      "5. 좋아하는 색은 무엇입니까?\n",
      "\t1. 흰색: 5\n",
      "\t2. 초록색: 2\n"
     ]
    }
   ],
   "source": [
    "# 설문 문제 - 보기\n",
    "question_list = Question.objects.all()\n",
    "for question in question_list:\n",
    "    print(f\"{question.pk}. {question.question_text}\")\n",
    "    for idx, choice in enumerate(question.choice_set.all()):\n",
    "        print(f\"\\t{idx+1}. {choice.choice_text}: {choice.votes}\")"
   ]
  },
  {
   "cell_type": "markdown",
   "metadata": {},
   "source": [
    "# Insert/Update\n",
    " - model객체.save()"
   ]
  },
  {
   "cell_type": "code",
   "execution_count": 66,
   "metadata": {},
   "outputs": [
    {
     "name": "stdout",
     "output_type": "stream",
     "text": [
      "None\n"
     ]
    }
   ],
   "source": [
    "# insert\n",
    "new_question = Question(question_text=\"새질문입니다.\")\n",
    "pk = new_question.save() # 저장되 있지 않은 pk의 instance를 save -> insert\n",
    "print(pk)"
   ]
  },
  {
   "cell_type": "code",
   "execution_count": 67,
   "metadata": {},
   "outputs": [
    {
     "name": "stdout",
     "output_type": "stream",
     "text": [
      "6\n",
      "2025-01-07 00:33:01.562216+00:00\n"
     ]
    }
   ],
   "source": [
    "print(new_question.pk) # insert 후에 자동 등록된 값들(pk, pub_date)를 모델객체에 넣어준다\n",
    "print(new_question.pub_date)"
   ]
  },
  {
   "cell_type": "code",
   "execution_count": 71,
   "metadata": {},
   "outputs": [],
   "source": [
    "# 조회\n",
    "q = Question.objects.get(pk=6)\n",
    "# update\n",
    "q.question_text = \"여행가고 싶은 곳이 어디인가요?\" #pk=3인 행의 값을 변경\n",
    "q.save() # DB에 있는 pk 행의 값을 수정 -> update\n",
    "# save(): 반환값 object - update시 pk값 | None - insert"
   ]
  },
  {
   "cell_type": "code",
   "execution_count": 72,
   "metadata": {},
   "outputs": [
    {
     "data": {
      "text/plain": [
       "<Question: 6. 여행가고 싶은 곳이 어디인가요?>"
      ]
     },
     "execution_count": 72,
     "metadata": {},
     "output_type": "execute_result"
    }
   ],
   "source": [
    "Question.objects.get(pk=6)"
   ]
  },
  {
   "cell_type": "code",
   "execution_count": 73,
   "metadata": {},
   "outputs": [
    {
     "data": {
      "text/plain": [
       "(1, {'polls.Question': 1})"
      ]
     },
     "execution_count": 73,
     "metadata": {},
     "output_type": "execute_result"
    }
   ],
   "source": [
    "# delete\n",
    "del_question = Question(pk=6) # 삭제할 primary key를 가진 객체를 생성\n",
    "del_question.pk, del_question.question_text\n",
    "del_question.delete()"
   ]
  },
  {
   "cell_type": "code",
   "execution_count": 74,
   "metadata": {},
   "outputs": [
    {
     "data": {
      "text/plain": [
       "<QuerySet [<Question: 1. 좋아하는 동물은 무엇인가요?>, <Question: 2. 좋아하는 과일은 무엇입니까?>, <Question: 4. 싫어하는 곤충은 무엇입니까?>, <Question: 5. 좋아하는 색은 무엇입니까?>]>"
      ]
     },
     "execution_count": 74,
     "metadata": {},
     "output_type": "execute_result"
    }
   ],
   "source": [
    "Question.objects.all()"
   ]
  },
  {
   "cell_type": "code",
   "execution_count": 75,
   "metadata": {},
   "outputs": [
    {
     "name": "stdout",
     "output_type": "stream",
     "text": [
      "8\n",
      "0\n"
     ]
    }
   ],
   "source": [
    "# ORM -> 조건에 데이터를 조회한 후에 삭제\n",
    "print(Choice.objects.all().count()) # QuerySet.count() 조회데이터수 (len(QuerySet)과 동일)\n",
    "print(Choice.objects.filter(votes__gt=50).count())"
   ]
  },
  {
   "cell_type": "code",
   "execution_count": 76,
   "metadata": {},
   "outputs": [],
   "source": [
    "# choice에서 votes가 50 이상인 행들을 삭제\n",
    "## delete from choice where votes >= 50\n",
    "del_list = Choice.objects.filter(votes__gt=50)\n",
    "for del_obj in del_list:\n",
    "    print(del_obj.pk, del_obj.votes)\n",
    "    del_obj.delete()"
   ]
  }
 ],
 "metadata": {
  "kernelspec": {
   "display_name": "django",
   "language": "python",
   "name": "python3"
  },
  "language_info": {
   "codemirror_mode": {
    "name": "ipython",
    "version": 3
   },
   "file_extension": ".py",
   "mimetype": "text/x-python",
   "name": "python",
   "nbconvert_exporter": "python",
   "pygments_lexer": "ipython3",
   "version": "3.12.8"
  }
 },
 "nbformat": 4,
 "nbformat_minor": 2
}
