{
 "cells": [
  {
   "cell_type": "code",
   "execution_count": 1,
   "id": "bc6700eb",
   "metadata": {
    "ExecuteTime": {
     "end_time": "2022-01-03T08:13:10.849537Z",
     "start_time": "2022-01-03T08:13:10.308822Z"
    }
   },
   "outputs": [],
   "source": [
    "# django shell 환경설정\n",
    "import os\n",
    "import django\n",
    "os.environ['DJANGO_SETTINGS_MODULE'] = 'config.settings'\n",
    "os.environ['DJANGO_ALLOW_ASYNC_UNSAFE'] = 'true'\n",
    "\n",
    "django.setup()"
   ]
  },
  {
   "cell_type": "markdown",
   "id": "3adbb7a6",
   "metadata": {},
   "source": [
    "# 페이징 처리\n",
    "-  대량의 데이터를 여러 페이지로 나눠서 출력하는 것.\n",
    "-  Django에서는 Paginator와 Page 클래스를 통해 처리한다.\n",
    "  \n",
    "## Paginator 클래스\n",
    "- 전체 페이징 처리를 관리하는 클래스\n",
    "- 전체 데이터관련 정보, 각 페이지당 보여줄 데이터의 정보 등을 제공\n",
    "\n",
    "## Page 클래스\n",
    "- 한페이지에대한 데이터를 관리\n",
    "- Paginator를 통해서 생성.\n",
    "    - `Pagenator객체.page(페이지 번호)`\n",
    "- iterable 타입. 페이지에 속한 데이터들을 제공\n",
    "- Page객체.object_list 속성: 페이지가 가진 데이터들을 List로 반환"
   ]
  },
  {
   "cell_type": "code",
   "execution_count": 13,
   "id": "6d7f8ea5",
   "metadata": {
    "ExecuteTime": {
     "end_time": "2022-01-03T07:31:27.176517Z",
     "start_time": "2022-01-03T07:31:27.160596Z"
    }
   },
   "outputs": [],
   "source": [
    "from django.core.paginator import Paginator"
   ]
  },
  {
   "cell_type": "code",
   "execution_count": 14,
   "id": "3e67b599",
   "metadata": {
    "ExecuteTime": {
     "end_time": "2022-01-03T07:31:27.799448Z",
     "start_time": "2022-01-03T07:31:27.784488Z"
    }
   },
   "outputs": [
    {
     "data": {
      "text/plain": [
       "['0', '1', '2', '3', '4']"
      ]
     },
     "execution_count": 14,
     "metadata": {},
     "output_type": "execute_result"
    }
   ],
   "source": [
    "data_list = list(\"0123456789abcdefghijklmnopqrstuvwxyzABCDEFGHIJKLMNOPQRSTUVWXYZ\")\n",
    "data_list[:5]"
   ]
  },
  {
   "cell_type": "code",
   "execution_count": 20,
   "id": "dba23efb",
   "metadata": {},
   "outputs": [],
   "source": [
    "# Pagenator 객체 생성 -> 전체 데이터를 다 넣어서 생성\n",
    "pn = Paginator(data_list, 5) # 전체 데이터, 현페이지 당 보여질 데이터 개수 \n"
   ]
  },
  {
   "cell_type": "code",
   "execution_count": 21,
   "id": "0cae42c3",
   "metadata": {},
   "outputs": [
    {
     "name": "stdout",
     "output_type": "stream",
     "text": [
      "전체 데이터 개수: 62\n",
      "총 페이지 수: 13\n",
      "시작 페이지 번호 ~ 끝 페이지 번호의 범위: range(1, 14)\n"
     ]
    }
   ],
   "source": [
    "print(\"전체 데이터 개수:\", pn.count)\n",
    "print(\"총 페이지 수:\", pn.num_pages)\n",
    "print(\"시작 페이지 번호 ~ 끝 페이지 번호의 범위:\", pn.page_range)"
   ]
  },
  {
   "cell_type": "code",
   "execution_count": 22,
   "id": "3d62aa0b",
   "metadata": {},
   "outputs": [
    {
     "name": "stdout",
     "output_type": "stream",
     "text": [
      "1\t2\t3\t4\t5\t6\t7\t8\t9\t10\t11\t12\t13\t"
     ]
    }
   ],
   "source": [
    "for p in pn.page_range:\n",
    "    print(p, end='\\t')"
   ]
  },
  {
   "cell_type": "code",
   "execution_count": 27,
   "id": "e98ae014",
   "metadata": {},
   "outputs": [
    {
     "name": "stdout",
     "output_type": "stream",
     "text": [
      "<class 'django.core.paginator.Page'>\n"
     ]
    },
    {
     "data": {
      "text/plain": [
       "<Page 1 of 13>"
      ]
     },
     "execution_count": 27,
     "metadata": {},
     "output_type": "execute_result"
    }
   ],
   "source": [
    "# 특정 page 객체를 생성\n",
    "page1 = pn.page(1) # 1 page 정보를 가진 Page 객체\n",
    "print(type(page1))\n",
    "page1 # 현재 페이지 of 홈페이지"
   ]
  },
  {
   "cell_type": "code",
   "execution_count": 28,
   "id": "4b37ea44",
   "metadata": {},
   "outputs": [
    {
     "data": {
      "text/plain": [
       "<Page 10 of 13>"
      ]
     },
     "execution_count": 28,
     "metadata": {},
     "output_type": "execute_result"
    }
   ],
   "source": [
    "page10 = pn.page(10) # 중간 페이지\n",
    "page10"
   ]
  },
  {
   "cell_type": "code",
   "execution_count": 29,
   "id": "65e6d473",
   "metadata": {},
   "outputs": [
    {
     "data": {
      "text/plain": [
       "<Page 13 of 13>"
      ]
     },
     "execution_count": 29,
     "metadata": {},
     "output_type": "execute_result"
    }
   ],
   "source": [
    "page13 = pn.page(13) # 마지막 페이지\n",
    "page13"
   ]
  },
  {
   "cell_type": "code",
   "execution_count": 30,
   "id": "08645f21",
   "metadata": {},
   "outputs": [
    {
     "ename": "EmptyPage",
     "evalue": "해당 페이지에 결과가 없습니다.",
     "output_type": "error",
     "traceback": [
      "\u001b[1;31m---------------------------------------------------------------------------\u001b[0m",
      "\u001b[1;31mEmptyPage\u001b[0m                                 Traceback (most recent call last)",
      "Cell \u001b[1;32mIn[30], line 2\u001b[0m\n\u001b[0;32m      1\u001b[0m \u001b[38;5;66;03m# 없는 페이지 조회\u001b[39;00m\n\u001b[1;32m----> 2\u001b[0m \u001b[43mpn\u001b[49m\u001b[38;5;241;43m.\u001b[39;49m\u001b[43mpage\u001b[49m\u001b[43m(\u001b[49m\u001b[38;5;241;43m100\u001b[39;49m\u001b[43m)\u001b[49m\n",
      "File \u001b[1;32mc:\\Users\\Playdata\\miniconda3\\envs\\django\\Lib\\site-packages\\django\\core\\paginator.py:89\u001b[0m, in \u001b[0;36mPaginator.page\u001b[1;34m(self, number)\u001b[0m\n\u001b[0;32m     87\u001b[0m \u001b[38;5;28;01mdef\u001b[39;00m \u001b[38;5;21mpage\u001b[39m(\u001b[38;5;28mself\u001b[39m, number):\n\u001b[0;32m     88\u001b[0m \u001b[38;5;250m    \u001b[39m\u001b[38;5;124;03m\"\"\"Return a Page object for the given 1-based page number.\"\"\"\u001b[39;00m\n\u001b[1;32m---> 89\u001b[0m     number \u001b[38;5;241m=\u001b[39m \u001b[38;5;28;43mself\u001b[39;49m\u001b[38;5;241;43m.\u001b[39;49m\u001b[43mvalidate_number\u001b[49m\u001b[43m(\u001b[49m\u001b[43mnumber\u001b[49m\u001b[43m)\u001b[49m\n\u001b[0;32m     90\u001b[0m     bottom \u001b[38;5;241m=\u001b[39m (number \u001b[38;5;241m-\u001b[39m \u001b[38;5;241m1\u001b[39m) \u001b[38;5;241m*\u001b[39m \u001b[38;5;28mself\u001b[39m\u001b[38;5;241m.\u001b[39mper_page\n\u001b[0;32m     91\u001b[0m     top \u001b[38;5;241m=\u001b[39m bottom \u001b[38;5;241m+\u001b[39m \u001b[38;5;28mself\u001b[39m\u001b[38;5;241m.\u001b[39mper_page\n",
      "File \u001b[1;32mc:\\Users\\Playdata\\miniconda3\\envs\\django\\Lib\\site-packages\\django\\core\\paginator.py:71\u001b[0m, in \u001b[0;36mPaginator.validate_number\u001b[1;34m(self, number)\u001b[0m\n\u001b[0;32m     69\u001b[0m     \u001b[38;5;28;01mraise\u001b[39;00m EmptyPage(\u001b[38;5;28mself\u001b[39m\u001b[38;5;241m.\u001b[39merror_messages[\u001b[38;5;124m\"\u001b[39m\u001b[38;5;124mmin_page\u001b[39m\u001b[38;5;124m\"\u001b[39m])\n\u001b[0;32m     70\u001b[0m \u001b[38;5;28;01mif\u001b[39;00m number \u001b[38;5;241m>\u001b[39m \u001b[38;5;28mself\u001b[39m\u001b[38;5;241m.\u001b[39mnum_pages:\n\u001b[1;32m---> 71\u001b[0m     \u001b[38;5;28;01mraise\u001b[39;00m EmptyPage(\u001b[38;5;28mself\u001b[39m\u001b[38;5;241m.\u001b[39merror_messages[\u001b[38;5;124m\"\u001b[39m\u001b[38;5;124mno_results\u001b[39m\u001b[38;5;124m\"\u001b[39m])\n\u001b[0;32m     72\u001b[0m \u001b[38;5;28;01mreturn\u001b[39;00m number\n",
      "\u001b[1;31mEmptyPage\u001b[0m: 해당 페이지에 결과가 없습니다."
     ]
    }
   ],
   "source": [
    "# 없는 페이지 조회 - EmptyPage Exception 발생\n",
    "# pn.page(100)"
   ]
  },
  {
   "cell_type": "code",
   "execution_count": 33,
   "id": "d4ff9a74",
   "metadata": {},
   "outputs": [
    {
     "name": "stdout",
     "output_type": "stream",
     "text": [
      "0, 1, 2, 3, 4, \n",
      "J, K, L, M, N, \n",
      "Y, Z, "
     ]
    }
   ],
   "source": [
    "# Page가 가진 데이터들을 조회 -> Page객체: Iterable\n",
    "for data in page1:\n",
    "    print(data, end=', ')\n",
    "print()\n",
    "for data in page10:\n",
    "    print(data, end=', ')\n",
    "print()\n",
    "for data in page13:\n",
    "    print(data, end=', ')\n",
    "    "
   ]
  },
  {
   "cell_type": "code",
   "execution_count": 35,
   "id": "38cade6c",
   "metadata": {},
   "outputs": [
    {
     "data": {
      "text/plain": [
       "'0'"
      ]
     },
     "execution_count": 35,
     "metadata": {},
     "output_type": "execute_result"
    }
   ],
   "source": [
    "# index로 조회 - subscriptable 타입\n",
    "page1[0]"
   ]
  },
  {
   "cell_type": "code",
   "execution_count": 36,
   "id": "1a15a691",
   "metadata": {},
   "outputs": [
    {
     "data": {
      "text/plain": [
       "['0', '1', '2', '3', '4']"
      ]
     },
     "execution_count": 36,
     "metadata": {},
     "output_type": "execute_result"
    }
   ],
   "source": [
    "# Page의 데이터들을 리스트로 반환\n",
    "page1.object_list"
   ]
  },
  {
   "cell_type": "code",
   "execution_count": 38,
   "id": "6a85c427",
   "metadata": {},
   "outputs": [
    {
     "data": {
      "text/plain": [
       "(['0', '1', '2', '3', '4'], ('0', '1', '2', '3', '4'))"
      ]
     },
     "execution_count": 38,
     "metadata": {},
     "output_type": "execute_result"
    }
   ],
   "source": [
    "# list(range(1, 10))\n",
    "list(page1), tuple(page1)"
   ]
  },
  {
   "cell_type": "markdown",
   "id": "e6b65836",
   "metadata": {},
   "source": [
    "## 이전/다음 페이지가 있는지 \n",
    "- `Page객체.has_previous()` / `Page객체.has_next()`\n",
    "- 1페이지: 이전페이지? X, 다음페이지? O\n",
    "- 중간 페이지: 이전페이지? O, 다음페이지? O\n",
    "- 마지막 페이지: 이전? O, 다음페이지? X"
   ]
  },
  {
   "cell_type": "code",
   "execution_count": null,
   "id": "5adc7d0d",
   "metadata": {},
   "outputs": [],
   "source": []
  },
  {
   "cell_type": "code",
   "execution_count": null,
   "id": "311c9725",
   "metadata": {},
   "outputs": [],
   "source": []
  },
  {
   "cell_type": "code",
   "execution_count": null,
   "id": "fd775be6",
   "metadata": {},
   "outputs": [],
   "source": []
  },
  {
   "cell_type": "markdown",
   "id": "97d01906",
   "metadata": {},
   "source": [
    "## 이전/다음페이지 번호 조회\n",
    "- **Page객체.number:** 현재 페이지 번호\n",
    "- **Page객체.previous_page_number():** 이전페이지 번호 조회\n",
    "- **page객체.next_page_number():** 다음페이지 번호 조회"
   ]
  },
  {
   "cell_type": "code",
   "execution_count": 39,
   "id": "5e8b61d4",
   "metadata": {},
   "outputs": [
    {
     "data": {
      "text/plain": [
       "(False, True)"
      ]
     },
     "execution_count": 39,
     "metadata": {},
     "output_type": "execute_result"
    }
   ],
   "source": [
    "page1.has_previous(), page1.has_next()"
   ]
  },
  {
   "cell_type": "code",
   "execution_count": 40,
   "id": "ae315219",
   "metadata": {},
   "outputs": [
    {
     "data": {
      "text/plain": [
       "(True, True)"
      ]
     },
     "execution_count": 40,
     "metadata": {},
     "output_type": "execute_result"
    }
   ],
   "source": [
    "page10.has_previous(), page10.has_next()"
   ]
  },
  {
   "cell_type": "code",
   "execution_count": 41,
   "id": "bcbae375",
   "metadata": {},
   "outputs": [
    {
     "data": {
      "text/plain": [
       "(True, False)"
      ]
     },
     "execution_count": 41,
     "metadata": {},
     "output_type": "execute_result"
    }
   ],
   "source": [
    "page13.has_previous(), page13.has_next()"
   ]
  },
  {
   "cell_type": "code",
   "execution_count": 43,
   "id": "f50874dd",
   "metadata": {},
   "outputs": [
    {
     "name": "stdout",
     "output_type": "stream",
     "text": [
      "1\n"
     ]
    },
    {
     "data": {
      "text/plain": [
       "(10, 13)"
      ]
     },
     "execution_count": 43,
     "metadata": {},
     "output_type": "execute_result"
    }
   ],
   "source": [
    "print(page1.number) # page1 객체의 페이지 번호\n",
    "page10.number, page13.number"
   ]
  },
  {
   "cell_type": "code",
   "execution_count": 47,
   "id": "e76ab073",
   "metadata": {},
   "outputs": [
    {
     "name": "stdout",
     "output_type": "stream",
     "text": [
      "이전 페이지 번호: 9\n",
      "현재 페이지 번호: 10\n",
      "다음 페이지 번호: 11\n"
     ]
    }
   ],
   "source": [
    "# 이전 페이지 번호\n",
    "print(\"이전 페이지 번호:\", page10.previous_page_number())\n",
    "print(\"현재 페이지 번호:\", page10.number)\n",
    "print(\"다음 페이지 번호:\", page10.next_page_number())"
   ]
  },
  {
   "cell_type": "code",
   "execution_count": 49,
   "id": "7684cfbf",
   "metadata": {},
   "outputs": [
    {
     "name": "stdout",
     "output_type": "stream",
     "text": [
      "다음: 2\n"
     ]
    }
   ],
   "source": [
    "if page1.has_previous():\n",
    "    print(\"이전:\", page1.previous_page_number())\n",
    "if page1.has_next():\n",
    "    print(\"다음:\", page1.next_page_number())"
   ]
  },
  {
   "cell_type": "markdown",
   "id": "0d301a75",
   "metadata": {},
   "source": [
    "## 각 페이지별 데이터를 출력(조회)"
   ]
  },
  {
   "cell_type": "code",
   "execution_count": 61,
   "id": "263698be",
   "metadata": {},
   "outputs": [
    {
     "name": "stdout",
     "output_type": "stream",
     "text": [
      "range(1, 10)\n",
      "------1 페이지--------\n",
      "0, 1, 2, 3, 4, 5, 6, \n",
      "------2 페이지--------\n",
      "7, 8, 9, a, b, c, d, \n",
      "------3 페이지--------\n",
      "e, f, g, h, i, j, k, \n",
      "------4 페이지--------\n",
      "l, m, n, o, p, q, r, \n",
      "------5 페이지--------\n",
      "s, t, u, v, w, x, y, \n",
      "------6 페이지--------\n",
      "z, A, B, C, D, E, F, \n",
      "------7 페이지--------\n",
      "G, H, I, J, K, L, M, \n",
      "------8 페이지--------\n",
      "N, O, P, Q, R, S, T, \n",
      "------9 페이지--------\n",
      "U, V, W, X, Y, Z, \n"
     ]
    }
   ],
   "source": [
    "from django.core.paginator import Paginator\n",
    "\n",
    "data_list = list(\"0123456789abcdefghijklmnopqrstuvwxyzABCDEFGHIJKLMNOPQRSTUVWXYZ\")\n",
    "# 한 페이지당 10개 데이터를 출력\n",
    "paginate_by = 7 # 페이지당 데이터 개수\n",
    "\n",
    "pn = Paginator(data_list, paginate_by)\n",
    "print(pn.page_range)\n",
    "for page_no in pn.page_range:\n",
    "    page = pn.page(page_no) # 각 페이지의 Page객체 -> iterable: 데이터를 반환\n",
    "    print(f\"------{page_no} 페이지--------\")\n",
    "    for data in page:\n",
    "        print(data, end=', ')\n",
    "    print()"
   ]
  },
  {
   "cell_type": "markdown",
   "id": "fd01b375",
   "metadata": {},
   "source": [
    "# 현재 페이지(요청페이지)가 속한 page 그룹의 (page_range)에서의 \n",
    "# 시작 index와 끝 index를 조회"
   ]
  },
  {
   "cell_type": "code",
   "execution_count": 51,
   "id": "5f46dd96",
   "metadata": {
    "ExecuteTime": {
     "end_time": "2022-01-03T07:34:43.111048Z",
     "start_time": "2022-01-03T07:34:43.103072Z"
    }
   },
   "outputs": [
    {
     "data": {
      "text/plain": [
       "range(1, 14)"
      ]
     },
     "execution_count": 51,
     "metadata": {},
     "output_type": "execute_result"
    }
   ],
   "source": [
    "from django.core.paginator import Paginator\n",
    "\n",
    "data_list = list(\"0123456789abcdefghijklmnopqrstuvwxyzABCDEFGHIJKLMNOPQRSTUVWXYZ\")\n",
    "\n",
    "pn = Paginator(data_list, 5)\n",
    "r = pn.page_range\n",
    "r"
   ]
  },
  {
   "cell_type": "code",
   "execution_count": 52,
   "id": "be626cd0",
   "metadata": {
    "ExecuteTime": {
     "end_time": "2022-01-03T07:35:20.181168Z",
     "start_time": "2022-01-03T07:35:20.159257Z"
    }
   },
   "outputs": [
    {
     "name": "stdout",
     "output_type": "stream",
     "text": [
      "[1, 2, 3]\n",
      "[4, 5, 6]\n",
      "[7, 8, 9]\n"
     ]
    }
   ],
   "source": [
    "# page group당 3개 페이지씩 묶는 경우.\n",
    "print(list(r[0:3]))  # 현재 page: 1 or 2 or 3 일 경우 그 페이지가 속한 페이지들의 index 조회\n",
    "print(list(r[3:6]))  # 현재 page: 4 or 5 or 6 일 경우 그 페이지가 속한 페이지들의 index 조회\n",
    "print(list(r[6:9]))  # 현재 page: 7 or 8 or 9 일 경우 그 페이지가 속한 페이지들의 index 조회"
   ]
  },
  {
   "cell_type": "code",
   "execution_count": 60,
   "id": "fee434c0",
   "metadata": {},
   "outputs": [
    {
     "data": {
      "text/plain": [
       "[1, 2, 3, 4, 5]"
      ]
     },
     "execution_count": 60,
     "metadata": {},
     "output_type": "execute_result"
    }
   ],
   "source": [
    "current_page = 1     # 현재 페이지\n",
    "page_group_count = 5 # 페이지 그룹 당 페이지 개수 (1:index, 2, 3, 4, 5:index)\n",
    "\n",
    "start_index = int((current_page - 1)/page_group_count) * page_group_count # int: 내림\n",
    "end_index = start_index + page_group_count\n",
    "\n",
    "r = pn.page_range\n",
    "pg = r[start_index:end_index]\n",
    "list(pg)"
   ]
  },
  {
   "cell_type": "markdown",
   "id": "46d182a4",
   "metadata": {},
   "source": [
    "## Question, Choice Dummy 데이터 추가"
   ]
  },
  {
   "cell_type": "code",
   "execution_count": 2,
   "id": "e93cf5f3",
   "metadata": {
    "ExecuteTime": {
     "end_time": "2022-01-03T08:13:14.528372Z",
     "start_time": "2022-01-03T08:13:14.511417Z"
    }
   },
   "outputs": [],
   "source": [
    "from polls.models import Question, Choice"
   ]
  },
  {
   "cell_type": "code",
   "execution_count": 5,
   "id": "a4b0551a",
   "metadata": {},
   "outputs": [],
   "source": [
    "# 기존 데이터를 삭제\n",
    "q_list = Question.objects.all()\n",
    "for q in q_list:\n",
    "    q.delete()"
   ]
  },
  {
   "cell_type": "code",
   "execution_count": 7,
   "id": "8abd70b3",
   "metadata": {},
   "outputs": [
    {
     "name": "stdout",
     "output_type": "stream",
     "text": [
      "0\n",
      "0\n"
     ]
    }
   ],
   "source": [
    "print(Question.objects.all().count())\n",
    "print(Choice.objects.all().count())"
   ]
  },
  {
   "cell_type": "code",
   "execution_count": 8,
   "id": "f451375e",
   "metadata": {
    "ExecuteTime": {
     "end_time": "2022-01-03T08:13:14.730592Z",
     "start_time": "2022-01-03T08:13:14.716598Z"
    }
   },
   "outputs": [],
   "source": [
    "# Question 401개 추가.\n",
    "for i in range(1, 402):\n",
    "    post = Question(question_text=f\"질문 - {i}\")\n",
    "    post.save()"
   ]
  },
  {
   "cell_type": "code",
   "execution_count": 9,
   "id": "c70ac9b7",
   "metadata": {},
   "outputs": [
    {
     "name": "stdout",
     "output_type": "stream",
     "text": [
      "401\n"
     ]
    }
   ],
   "source": [
    "cnt = Question.objects.all().count()\n",
    "print(cnt)"
   ]
  },
  {
   "cell_type": "code",
   "execution_count": 10,
   "id": "1de59ca3",
   "metadata": {},
   "outputs": [
    {
     "data": {
      "text/plain": [
       "409"
      ]
     },
     "execution_count": 10,
     "metadata": {},
     "output_type": "execute_result"
    }
   ],
   "source": [
    "start_id = Question.objects.all()[0].pk\n",
    "start_id"
   ]
  },
  {
   "cell_type": "code",
   "execution_count": 11,
   "id": "6d1a65e9",
   "metadata": {},
   "outputs": [],
   "source": [
    "# 각 문제당 보기 4개씩추가.\n",
    "import random\n",
    "\n",
    "for i in range(start_id, cnt + start_id):  # 1 번 ~ 401번 까지 이므로.  range(1 , cnt+1)\n",
    "    for j in range(4):\n",
    "        c = Choice(\n",
    "            choice_text=f\"{j}번 보기입니다.\",\n",
    "            votes=random.randint(1, 100),\n",
    "            question=Question(pk=i),\n",
    "        )\n",
    "        c.save()"
   ]
  },
  {
   "cell_type": "code",
   "execution_count": 12,
   "id": "d291c00c",
   "metadata": {},
   "outputs": [
    {
     "name": "stdout",
     "output_type": "stream",
     "text": [
      "401\n",
      "1604\n"
     ]
    }
   ],
   "source": [
    "print(Question.objects.all().count())\n",
    "print(Choice.objects.all().count())"
   ]
  }
 ],
 "metadata": {
  "kernelspec": {
   "display_name": "django",
   "language": "python",
   "name": "python3"
  },
  "language_info": {
   "codemirror_mode": {
    "name": "ipython",
    "version": 3
   },
   "file_extension": ".py",
   "mimetype": "text/x-python",
   "name": "python",
   "nbconvert_exporter": "python",
   "pygments_lexer": "ipython3",
   "version": "3.12.8"
  },
  "toc": {
   "base_numbering": 1,
   "nav_menu": {},
   "number_sections": true,
   "sideBar": true,
   "skip_h1_title": false,
   "title_cell": "Table of Contents",
   "title_sidebar": "Contents",
   "toc_cell": false,
   "toc_position": {},
   "toc_section_display": true,
   "toc_window_display": false
  },
  "varInspector": {
   "cols": {
    "lenName": 16,
    "lenType": 16,
    "lenVar": 40
   },
   "kernels_config": {
    "python": {
     "delete_cmd_postfix": "",
     "delete_cmd_prefix": "del ",
     "library": "var_list.py",
     "varRefreshCmd": "print(var_dic_list())"
    },
    "r": {
     "delete_cmd_postfix": ") ",
     "delete_cmd_prefix": "rm(",
     "library": "var_list.r",
     "varRefreshCmd": "cat(var_dic_list()) "
    }
   },
   "types_to_exclude": [
    "module",
    "function",
    "builtin_function_or_method",
    "instance",
    "_Feature"
   ],
   "window_display": false
  }
 },
 "nbformat": 4,
 "nbformat_minor": 5
}
